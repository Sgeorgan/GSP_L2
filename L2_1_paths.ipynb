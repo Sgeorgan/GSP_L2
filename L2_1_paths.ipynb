{
 "cells": [
  {
   "cell_type": "markdown",
   "id": "e7cfead5-6db2-497e-8866-be5af2a9ffb2",
   "metadata": {},
   "source": [
    "# Overview\n",
    "\n",
    "In this lesson, we will learn how to handle spatial data in Python using [Geopandas](https://geopandas.org/en/stable/). Geopandas combines the power of Pandas to analyse tabular data and shapely for handling geometries.\n",
    "\n",
    "We will learn how to read and write spatial data from and to files, how to manipulate geometries, and how to transform data between different coordinate reference systems (CRS).\n",
    " \n",
    "## Learning Goals\n",
    "\n",
    "After this week, you should be able to:\n",
    "- Read and write spatial data from and to common file formats,\n",
    "- Filter and re-group data by spatial and non-spatial characteristics, and\n",
    "- Manage and transform a data set’s coordinate reference system.\n",
    "\n",
    "## Key Concepts\n",
    "\n",
    "### Check Your Understanding\n",
    "\n",
    "Before diving into this week’s Python lesson, you should already be familiar with some basic spatial data file formats and projection definitions, such as these:\n",
    "- Shapefile\n",
    "- GeoPackage\n",
    "- CRS\n",
    "- Datum\n",
    "- EPSG\n",
    "\n",
    "### Definitions\n",
    "\n",
    "**Shapefile**: a vector data format for storing location information and related attributes. A shapefile consists of several files with a common prefix that need to be stored in the same directory. `.shp`, `.shx`, and `.dbf` are required file extensions in a shapefile. Other file extensions are not required, but for example, the file extension `.prj` is often essential. More information about Shapefile file extensions can be found [here](https://www.esri.com/en-us/home). The shapefile format is developed by ESRI.\n",
    "\n",
    "**GeoPackage**: an open-source format for storing and transferring geospatial information. GeoPackages are able to store both vector data and raster data. In more detail, GeoPackage is a container for an SQLite database with a `.gpkg` extension (all in one file!). The GeoPackage format is governed by the Open GeoSpatial Consortium. More information at: [https://www.geopackage.org/](https://www.geopackage.org/)\n",
    "\n",
    "**CRS**: Coordinate reference systems define how coordinates relate to real locations on the Earth. Geographic coordinate reference systems commonly use latitude and longitude degrees. Projected coordinate reference systems use x and y coordinates to represent locations on a flat surface. You will learn more about coordinate reference systems during this lesson!\n",
    "\n",
    "**Datum**: defines the center point, orientation, and scale of the reference surface related to a coordinate reference system. Same coordinates can relate to different locations depending on the Datum! For example, WGS84 is a widely used global datum. ETRS89 is a datum used in Europe. Coordinate reference systems are often named based on the datum used.\n",
    "\n",
    "**EPSG**: EPSG codes refer to specific reference systems. EPSG stands for “European Petroleum Survey Group” that originally published a database for spatial reference systems. For example, SWEREF 99 TM (EPSG:3006), is part of the SWEREF 99 reference system. SWEREF 99 is the Swedish national grid and is based on the ETRS89 (European Terrestrial Reference System 1989),   EPSG:4326 refers to WGS84. You can search for EPSG codes at: [https://spatialreference.org/](https://spatialreference.org/)\n",
    "\n",
    "## Managing File Paths\n",
    "\n",
    "When working with data, it is important to keep track of where which input files are stored, and where which output files should be written. This is especially important when moving between computers or between virtual machines.\n",
    "\n",
    "Earlier, file paths have often been hard-coded strings, text values. If, for instance, an output file name had to be derived from an input file name, all kind of slicing and other string manipulation methods would be used. More recently, the `os.path` module of Python became popular, that allowed to split a path into directories, and file names into base names and file extensions. However, manipulating file paths still required knowledge about the computer a script would ultimately run on. For instance, on all Unix-based operating systems, such as Linux or MacOS, directories are separated by forward-slashes (`/`), while Microsoft Windows uses back-slashes (`\\`) (this particular problem can be worked around with `os.sep` and `os.path.join`, but not in a very convenient way).\n",
    "\n",
    "Since Python 3.4 , there exists a built-in module that eases much of the hassle with managing file paths: `pathlib`. It provides an abstract layer on top of the actual operating system file paths that is consistent across computers. A `pathlib.Path()` object can be initiated with a file path (as a str), when created without an argument, it refers to the directory of the script or notebook file.\n"
   ]
  },
  {
   "cell_type": "markdown",
   "id": "13fced6f-81fc-40e6-b0cc-cf3b3c893a9d",
   "metadata": {},
   "source": [
    "It is recommended to define a path in a directory when importing various types of spatial datasets in python. More information on how to define and manage paths in Python can be found here (https://www.pythoncheatsheet.org/cheatsheet/file-directory-path). "
   ]
  },
  {
   "cell_type": "code",
   "execution_count": null,
   "id": "69bcc83c-add9-4be0-8528-da9ee87912b0",
   "metadata": {},
   "outputs": [],
   "source": [
    "import pathlib\n",
    "pathlib.Path()"
   ]
  },
  {
   "cell_type": "markdown",
   "id": "de41731f-76fb-457f-b16f-64884c4dfc9d",
   "metadata": {},
   "source": [
    "So far, this path is not checked against the actual directory structure, but we can resolve() it to convert it into an absolute path:"
   ]
  },
  {
   "cell_type": "code",
   "execution_count": null,
   "id": "a1a2eaba-e74a-41f2-a608-a8c2f828bbd8",
   "metadata": {},
   "outputs": [],
   "source": [
    "path = pathlib.Path()\n",
    "path = path.resolve()\n",
    "path"
   ]
  },
  {
   "cell_type": "markdown",
   "id": "b3ac9d45-812c-4f28-aefc-7d26ca74d97e",
   "metadata": {},
   "source": [
    "This path object now has a number of properties and methods. For instance, we can test whether the path exists in the file system, or whether it is a directory:"
   ]
  },
  {
   "cell_type": "code",
   "execution_count": null,
   "id": "47e7b777-c4a9-44bd-a2cd-b4e451abea22",
   "metadata": {},
   "outputs": [],
   "source": [
    "path.exists()"
   ]
  },
  {
   "cell_type": "code",
   "execution_count": null,
   "id": "359bb80a-2750-42fd-9858-e19052cfd951",
   "metadata": {},
   "outputs": [],
   "source": [
    "path.is_dir()"
   ]
  },
  {
   "cell_type": "markdown",
   "id": "08917f7a-b356-4d8d-a580-e92bf6f45490",
   "metadata": {},
   "source": [
    "Finally, to traverse within this path, you don’t have to think of whether you are running the script on Windows or Linux, and you most definitely don’t have to use string manipulation. To refer to a directory inside path, use the / (division operator) to append another path component (can be a string). For instance, to refer to a folder data within the same directory as this notebook, write the following:"
   ]
  },
  {
   "cell_type": "code",
   "execution_count": null,
   "id": "fb63c223-f21c-4551-8afd-2fcfd89fe435",
   "metadata": {},
   "outputs": [],
   "source": [
    "data_directory = path / \"data\"\n",
    "data_directory"
   ]
  },
  {
   "cell_type": "code",
   "execution_count": null,
   "id": "2fd8efdd-2118-4c46-938c-9c6f21daeb76",
   "metadata": {},
   "outputs": [],
   "source": [
    "path.parent"
   ]
  },
  {
   "cell_type": "markdown",
   "id": "7773108f-ca88-481c-a457-6f5479501611",
   "metadata": {},
   "source": [
    "Path() objects can be used (almost) anywhere a file path is expected as a variable of type str, as it automatically typecasts (converts) itself to a suitable type.\n",
    "\n",
    "In data science projects, it is a good habit to define a constant at the beginning of each notebook that points to the data directory, or multiple constants to point to, for instance, input and output directories. In today’s exercises we use different sample data sets from files stored in the same data directory. At the top of the notebooks, we thus define a constant DATA_DIRECTORY that we can later use to find the sample data set files:"
   ]
  },
  {
   "cell_type": "code",
   "execution_count": null,
   "id": "50b6328b-e8e1-4197-ba8c-33111fa45010",
   "metadata": {},
   "outputs": [],
   "source": [
    " #location (directory) of the notebook\n",
    "import pathlib\n",
    "NOTEBOOK_PATH = pathlib.Path().resolve()\n",
    "DATA_DIRECTORY = NOTEBOOK_PATH / \"data\""
   ]
  },
  {
   "cell_type": "code",
   "execution_count": null,
   "id": "4e42a280-db7d-40f0-98bb-bfd1052a17f4",
   "metadata": {},
   "outputs": [],
   "source": [
    "print(DATA_DIRECTORY)"
   ]
  },
  {
   "cell_type": "code",
   "execution_count": null,
   "id": "ea6110cc-a58d-4f9c-833d-8ef419b5f76a",
   "metadata": {},
   "outputs": [],
   "source": [
    "# this can then be used, for instance, in `geopandas.read_file()` (see next section):\n",
    "import geopandas\n",
    "data_set = geopandas.read_file(DATA_DIRECTORY / \"UGA_adm1_2011.shp\")\n",
    "data_set.plot()"
   ]
  },
  {
   "cell_type": "markdown",
   "id": "68e71895-ab6f-4b08-8b28-d9bedff49bd2",
   "metadata": {},
   "source": [
    "Here is an alternative way!"
   ]
  },
  {
   "cell_type": "code",
   "execution_count": null,
   "id": "b5b5c706-f111-4e56-aed0-1c8f79924a69",
   "metadata": {},
   "outputs": [],
   "source": [
    "import os\n",
    "import sys\n",
    "\n",
    "# Get the path of the current file and the directory containing it\n",
    "FILE_DIR = os.path.dirname(os.path.abspath(\"UGA_adm1_2011.shp\"))\n",
    "\n",
    "# Add the directory containing the current file to the Python module search path\n",
    "sys.path.append(FILE_DIR)\n",
    "\n",
    "# Import the pathlib module from the directory containing the current file\n",
    "import pathlib\n",
    "\n",
    "# Get the absolute path of the current notebook\n",
    "NOTEBOOK_PATH = pathlib.Path(FILE_DIR).resolve()\n",
    "\n",
    "# Define the data directory as a subdirectory of the notebook directory\n",
    "DATA_DIRECTORY = NOTEBOOK_PATH / \"data\""
   ]
  },
  {
   "cell_type": "code",
   "execution_count": null,
   "id": "44707c05-4d28-4cef-a661-1c9a7f848edc",
   "metadata": {},
   "outputs": [],
   "source": [
    "# this can then be used, for instance, in `geopandas.read_file()` (see next section):\n",
    "import geopandas\n",
    "data_set = geopandas.read_file(DATA_DIRECTORY / \"UGA_adm1_2011.shp\")\n",
    "data_set.plot()"
   ]
  },
  {
   "cell_type": "markdown",
   "id": "378f9f8b-3f48-4bf0-a3f8-0d1b03ffc1b2",
   "metadata": {},
   "source": [
    "In the examples above, we used a path that we <span style=\"color: red;\">resolve()</span>d earlier on. This further improves compatibility and consistency across operating systems and local installations.\n",
    "\n",
    "Especially when using the path of the current file (as in <span style=\"color: red;\">pathlib.Path()</span> without parameters), we recommend to resolve the path before traversing into any other directory.\n"
   ]
  },
  {
   "cell_type": "markdown",
   "id": "5eee52d6-932f-4af4-ba43-7b885de451c3",
   "metadata": {},
   "source": [
    "## Sources\n",
    "\n",
    "This lesson is inspired by the [Programming in Python lessons](http://swcarpentry.github.io/python-novice-inflammation/) from the [Software Carpentry organization](http://software-carpentry.org) and has adapted or reused material from University of Helsinki Automating GIS processis course (https://autogis-site.readthedocs.io/en/latest/course-info/license.html) under a Creative Commons Attribution-ShareAlike 4.0 International licence (https://creativecommons.org/licenses/by-sa/4.0/deed.en)."
   ]
  },
  {
   "cell_type": "code",
   "execution_count": null,
   "id": "fa48bb8d-8524-4512-8c94-d1148cdfa932",
   "metadata": {},
   "outputs": [],
   "source": []
  }
 ],
 "metadata": {
  "kernelspec": {
   "display_name": "Python (new_geopy_env)",
   "language": "python",
   "name": "new_geopy_env"
  },
  "language_info": {
   "codemirror_mode": {
    "name": "ipython",
    "version": 3
   },
   "file_extension": ".py",
   "mimetype": "text/x-python",
   "name": "python",
   "nbconvert_exporter": "python",
   "pygments_lexer": "ipython3",
   "version": "3.11.8"
  }
 },
 "nbformat": 4,
 "nbformat_minor": 5
}
