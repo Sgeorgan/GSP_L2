{
 "cells": [
  {
   "cell_type": "markdown",
   "id": "795b1b2d-9865-4da2-a3e5-ba5cbe71accb",
   "metadata": {},
   "source": [
    "**Coordinate reference systems** (CRS) are essential metadata for any geospatial dataset. Without a CRS, geometries would simply be a collection of coordinates in an arbitrary space. Only the CRS allows GIS software, including the Python packages we use in this course, to relate these coordinates to a place on Earth, or other roughly spherical objects or planets.\n",
    "\n",
    "Often confused with CRS, map projections, also known as **projected coordinate systems**, are mathematical models that enable the transfer of coordinates on the surface of our three-dimensional Earth to coordinates on a planar surface, such as a flat, two-dimensional map. Unlike projected coordinate systems, geographic coordinate systems use only latitude and longitude, which are the degrees along the horizontal and vertical great circles of a sphere approximating the Earth, as the x and y coordinates in a planar map. Finally, there are both projected and geographic coordinate systems that employ more complicated ellipsoids than a simple sphere to better approximate the 'potato-shaped' reality of our planet. The complete CRS information required to accurately relate geospatial information to a place on Earth includes both (projected/geographic) coordinate system and ellipsoid.\n",
    "\n",
    "Spatial datasets frequently have different CRSs since different coordinate systems are optimized for specific regions and purposes. No coordinate system can be entirely accurate around the world, and the transformation from three- to two-dimensional coordinates cannot be accurate in angles, distances, and areas at the same time.\n",
    "\n",
    "Therefore, it is a typical GIS task to transform, or reproject, a dataset from one reference system to another, such as to make two layers interoperable. Comparing two datasets with different CRSs would inevitably yield incorrect results; for instance, determining points contained within a polygon would not work if the points have geographic coordinates (in degrees), and the polygon is in the national Finnish reference system (in meters).\n",
    "\n",
    "Choosing an appropriate projection for your map is not always easy. It depends on what you want to represent in your map and what your data's spatial scale, resolution, and extent are. In reality, there is no single \"perfect projection\"; each has advantages and disadvantages, and you should choose a projection that best fits each map. "
   ]
  },
  {
   "cell_type": "markdown",
   "id": "921166d5-1984-48cd-8290-05ae364b37b1",
   "metadata": {},
   "source": [
    "![Map Projections](https://imgs.xkcd.com/comics/map_projections.png)\n",
    "Source: https://xkcd.com/"
   ]
  },
  {
   "cell_type": "markdown",
   "id": "31038f45-1603-4b62-900d-9b9eae4511ea",
   "metadata": {},
   "source": [
    "Once you have figured out which map projection to use, handling coordinate reference systems, fortunately, is fairly easy in Geopandas. The library `pyproj` provides additional information about a CRS, and can assist with more tricky tasks, such as guessing the unknown CRS of a data set.\n",
    "\n",
    "In this section we will learn how to retrieve the coordinate reference system information of a data set, and how to re-project the data into another CRS."
   ]
  },
  {
   "cell_type": "markdown",
   "id": "741d3386-7822-480d-8c76-7beb289693b6",
   "metadata": {},
   "source": [
    "Let's start with a file we imported before (regions of the EU)"
   ]
  },
  {
   "cell_type": "code",
   "execution_count": null,
   "id": "6369d8fd-db71-4bd2-b239-9e2553c87554",
   "metadata": {},
   "outputs": [],
   "source": [
    "import geopandas \n",
    "\n",
    "# Download, unpack, and read the NUTS regions dataset from the Eurostat website\n",
    "url = \"https://gisco-services.ec.europa.eu/distribution/v2/nuts/shp/NUTS_RG_60M_2021_3035.shp.zip\"\n",
    "gdf = geopandas.read_file(url)\n",
    "gdf.head()"
   ]
  },
  {
   "cell_type": "code",
   "execution_count": null,
   "id": "a43265cd-6624-418c-9dc2-5842b2ba4766",
   "metadata": {},
   "outputs": [],
   "source": [
    "gdf.plot()"
   ]
  },
  {
   "cell_type": "code",
   "execution_count": null,
   "id": "8e03de7d-a4da-4d26-98a3-8670a342ab79",
   "metadata": {},
   "outputs": [],
   "source": [
    "gdf.crs"
   ]
  },
  {
   "cell_type": "markdown",
   "id": "ab9be2ca-c905-4017-948a-294249a2d6ff",
   "metadata": {},
   "source": [
    "The object that is being displayed is a `pyproj.CRS` object, which represents a coordinate reference system.\n",
    "\n",
    "In the geospatial world, the EPSG code (European Petroleum Survey Group) is a standard way of identifying coordinate reference systems. Each EPSG code corresponds to an entry in the EPSG Geodetic Parameter Dataset, which is a collection of coordinate reference systems and coordinate transformations ranging from global to national, regional, and local scope.\n",
    "\n",
    "The EPSG code of the given `GeoDataFrame` is `3035`, which corresponds to a projected coordinate system that uses the GRS 1980 reference ellipsoid. It is the map projection officially recommended by the European Commission."
   ]
  },
  {
   "cell_type": "markdown",
   "id": "71cefd9c-7a62-4f1a-ae17-556f3fba8394",
   "metadata": {},
   "source": [
    "You can find information about reference systems and lists of commonly known CRS from many online resources, for example:\n",
    "\n",
    "www.spatialreference.org \n",
    "\n",
    "www.proj4.org\n",
    "\n",
    "www.mapref.org"
   ]
  },
  {
   "cell_type": "code",
   "execution_count": null,
   "id": "74851bca-40eb-49f2-a0b5-1a8768dafc45",
   "metadata": {},
   "outputs": [],
   "source": [
    "gdf.geometry.head()"
   ]
  },
  {
   "cell_type": "markdown",
   "id": "07ef7c8e-a3c9-4e4b-a198-9e52835f89d0",
   "metadata": {},
   "source": [
    "\n",
    "Transforming data from one reference system to another is a very simple task in geopandas. In fact, all you have to to is use the to_crs() method of a GeoDataFrame, supplying a new CRS in a wide range of possible formats. The easiest is to use an EPSG code:'"
   ]
  },
  {
   "cell_type": "code",
   "execution_count": null,
   "id": "3c77e628-10d6-483a-9195-2029561f4227",
   "metadata": {},
   "outputs": [],
   "source": [
    "gdf_epsg_4326 = gdf.to_crs(\"EPSG:4326\")"
   ]
  },
  {
   "cell_type": "code",
   "execution_count": null,
   "id": "e49793a2-6a53-4489-aa45-83222f34c984",
   "metadata": {},
   "outputs": [],
   "source": [
    "gdf_epsg_4326.geometry.head()"
   ]
  },
  {
   "cell_type": "code",
   "execution_count": null,
   "id": "94d04afa-7b2d-4318-bb49-15e9810800da",
   "metadata": {},
   "outputs": [],
   "source": [
    "gdf_epsg_4326.crs"
   ]
  },
  {
   "cell_type": "markdown",
   "id": "6360c0f9-604f-4369-9267-db05e63063fc",
   "metadata": {},
   "source": [
    "It's notable that we have transformed a projected system into a geographic one now - hint!, the values of the coordinates are in longtitude and latitude now) - the legendary WGS84 system!"
   ]
  },
  {
   "cell_type": "markdown",
   "id": "c41958f9-ca3c-4ef0-9035-b9e5b456095b",
   "metadata": {},
   "source": [
    "Let's plot the 2 maps side by side:"
   ]
  },
  {
   "cell_type": "code",
   "execution_count": null,
   "id": "6b32540a-4cd3-422f-b70e-d1030aba7ef4",
   "metadata": {},
   "outputs": [],
   "source": [
    "\n",
    "import matplotlib.pyplot\n",
    "\n",
    "# Prepare sub plots that are next to each other\n",
    "figure, (axis1, axis2) = matplotlib.pyplot.subplots(nrows=1, ncols=2)\n",
    "\n",
    "# Plot the original (WGS84, EPSG:4326) data set\n",
    "gdf.plot(ax=axis1)\n",
    "axis1.set_title(\" ETRS89-extended / LAEA Europe\")\n",
    "axis1.set_aspect(1)\n",
    "\n",
    "# Plot the reprojected (EPSG:3035) data set\n",
    "gdf_epsg_4326.plot(ax=axis2)\n",
    "axis2.set_title(\"WGS84\")\n",
    "axis2.set_aspect(1)\n",
    "\n",
    "matplotlib.pyplot.tight_layout()"
   ]
  },
  {
   "cell_type": "markdown",
   "id": "ee040ccc-5f03-43dc-9ed4-aeaaeb8df14b",
   "metadata": {},
   "source": [
    "Indeed, the maps look quite different, and the re-projected data set distorts the European countries less, especially in the Northern part of the continent.\n",
    "\n",
    "Let’s still save the reprojected data set in a file so we can use it later. Note that, even though modern file formats save the CRS reliably, it is a good idea to use a descriptive file name that includes the reference system information."
   ]
  },
  {
   "cell_type": "markdown",
   "id": "6454daaa-aa48-4791-a707-836c3ff18820",
   "metadata": {},
   "source": [
    "Geospatial data can be accompanied by different types of information describing the coordinate reference system (CRS) used to represent the data. Common formats for CRS information include PROJ strings, EPSG codes, Well-Known-Text (WKT), and JSON. When working with spatial data from multiple sources, you may need to convert the CRS information from one format to another. The pyproj library, which geopandas uses to handle reference systems, can parse and convert CRS information in various formats. Knowing how to convert between formats can be useful when working with spatial data."
   ]
  },
  {
   "cell_type": "code",
   "execution_count": null,
   "id": "7ce99068-dadd-43f7-8824-dbc80fa16b86",
   "metadata": {},
   "outputs": [],
   "source": [
    "import pyproj\n",
    "\n",
    "crs = pyproj.CRS(gdf.crs)\n",
    "\n",
    "print(f\"CRS as a proj4 string: {crs.to_proj4()}\\n\")\n",
    "\n",
    "print(f\"CRS in WKT format: {crs.to_wkt()}\\n\")\n",
    "\n",
    "print(f\"EPSG code of the CRS: {crs.to_epsg()}\\n\")"
   ]
  },
  {
   "cell_type": "markdown",
   "id": "7ecbe0ad-7ec8-4fc6-8e6b-57b017a1684e",
   "metadata": {},
   "source": [
    "\n",
    "Not every possible coordinate reference system has an EPSG code assigned.\n",
    "That’s why *pyproj*, by default, tries to find the best-matching EPSG\n",
    "definition. If it does not find any, `to_epsg()` returns `None`.\n",
    "\n",
    "\n",
    "\n",
    "\n",
    "### Use pyproj to find detailed information about a CRS\n",
    "\n",
    "A `pyproj.CRS` object can also be initialised manually, for instance, using an\n",
    "EPSG code or a Proj4-string. It can then provide detailed information on the\n",
    "parameters of the reference system, as well as suggested areas of use. We can,\n",
    "for example, create a `CRS` object for the `EPSG:3035` map projection we used"
   ]
  },
  {
   "cell_type": "markdown",
   "id": "276a406a-6430-470c-b9c3-49cc50fa773f",
   "metadata": {},
   "source": [
    "Use pyproj to find detailed information about a CRS\n",
    "A `pyproj.CRS` object can also be initialised manually, for instance, using an EPSG code or a Proj4-string. It can then provide detailed information on the parameters of the reference system, as well as suggested areas of use. We can, for example, create a CRS object for the EPSG:3035 map projection we used above"
   ]
  },
  {
   "cell_type": "code",
   "execution_count": null,
   "id": "7cc8e68c-6a7a-4135-ac32-6864d3aa96fd",
   "metadata": {},
   "outputs": [],
   "source": [
    "crs = pyproj.CRS(\"EPSG:4326\")\n",
    "crs"
   ]
  },
  {
   "cell_type": "code",
   "execution_count": null,
   "id": "0bf7d1d3-8479-4bfe-87c2-f027b9dd20d2",
   "metadata": {},
   "outputs": [],
   "source": [
    "crs.name"
   ]
  },
  {
   "cell_type": "code",
   "execution_count": null,
   "id": "78d47599-7bd4-4715-846a-44262b76c6c1",
   "metadata": {},
   "outputs": [],
   "source": [
    "crs.area_of_use.bounds"
   ]
  },
  {
   "cell_type": "markdown",
   "id": "6b13badd-7a99-414d-9bfe-c01c4b512c69",
   "metadata": {},
   "source": [
    "## Sources\n",
    "\n",
    "This lesson is inspired by the [Programming in Python lessons](http://swcarpentry.github.io/python-novice-inflammation/) from the [Software Carpentry organization](http://software-carpentry.org) and has adapted or reused material from University of Helsinki Automating GIS processis course (https://autogis-site.readthedocs.io/en/latest/course-info/license.html) under a Creative Commons Attribution-ShareAlike 4.0 International licence (https://creativecommons.org/licenses/by-sa/4.0/deed.en)."
   ]
  },
  {
   "cell_type": "code",
   "execution_count": null,
   "id": "6840ffd4-5f19-4b26-9a31-132e93672d6a",
   "metadata": {},
   "outputs": [],
   "source": []
  }
 ],
 "metadata": {
  "kernelspec": {
   "display_name": "GeoPython25",
   "language": "python",
   "name": "geopython"
  },
  "language_info": {
   "codemirror_mode": {
    "name": "ipython",
    "version": 3
   },
   "file_extension": ".py",
   "mimetype": "text/x-python",
   "name": "python",
   "nbconvert_exporter": "python",
   "pygments_lexer": "ipython3",
   "version": "3.10.13"
  }
 },
 "nbformat": 4,
 "nbformat_minor": 5
}
