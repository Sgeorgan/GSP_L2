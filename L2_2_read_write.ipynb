{
 "cells": [
  {
   "cell_type": "markdown",
   "id": "33f0aa7a-f597-4d07-838d-ce3ac42df2c6",
   "metadata": {},
   "source": [
    "## Vector Data I/O\n",
    "\n",
    "One of the first steps of many analysis workflows is to read data from a file, one of the last steps often involves writing data to an output file. To the horror of many geoinformatics scholars, there exist many file formats for GIS data: the old and hated but also loved and established [ESRI Shapefile](https://en.wikipedia.org/wiki/Shapefile), the universal [Geopackage (GPKG)](https://www.geopackage.org/), and the web-optimised [GeoJSON](https://geojson.org/) are just a few of the more well-known examples.\n",
    "\n",
    "Fear not, Python can read them all (no guarantees, though)!\n",
    "\n",
    "Most of the current Python GIS packages rely on the [GDAL/OGR libraries](https://gdal.org/), for which modern interfaces exist in the form of the [fiona](https://fiona.readthedocs.io/en/latest/) and [rasterio](https://rasterio.readthedocs.io/en/latest/) Python packages.\n",
    "\n",
    "Today, we’ll concentrate on vector data, so let’s first take a closer look at fiona’s capabilities, and then import and export data using [geopandas](https://geopandas.org/), which uses fiona under its hood.\n"
   ]
  },
  {
   "cell_type": "markdown",
   "id": "e7b3586a-7818-4ece-9922-024dba280c9e",
   "metadata": {},
   "source": [
    "To make it easier to manage the paths of input and output data files, it is a good habit to define a constant pointing to the data directory at the top of a notebook:"
   ]
  },
  {
   "cell_type": "code",
   "execution_count": null,
   "id": "f673ecc1-2959-44b8-b8e9-63c4aef13541",
   "metadata": {},
   "outputs": [],
   "source": [
    " #location (directory) of the notebook\n",
    "import pathlib\n",
    "NOTEBOOK_PATH = pathlib.Path().resolve()\n",
    "DATA_DIRECTORY = NOTEBOOK_PATH / \"data\""
   ]
  },
  {
   "cell_type": "markdown",
   "id": "8a7a7ba4-5859-421e-bf03-c7cdebec5ac2",
   "metadata": {},
   "source": [
    "Many analysis workflows begin with reading data from a file, and end with writing data to an output file. For geoinformatics practisioners, this can be a daunting task, as there are numerous file formats for GIS data, including ESRI Shapefile, Geopackage (GPKG), and GeoJSON, among others.\n",
    "\n",
    "Thankfully, Python is well-equipped to handle these formats through its support for the GDAL/OGR libraries. To access these libraries, modern interfaces like the fiona and rasterio Python packages can be used.\n",
    "\n",
    "In this tutorial, we'll focus on working with vector data, so we'll first explore fiona's capabilities, before using geopandas to import and export data. Geopandas relies on fiona as its underlying engine, so understanding fiona is crucial to working effectively with geopandas."
   ]
  },
  {
   "cell_type": "markdown",
   "id": "fcbd957d-df31-42b7-a7b1-372d2f0e6c93",
   "metadata": {},
   "source": [
    "# FIONA"
   ]
  },
  {
   "cell_type": "markdown",
   "id": "b872e870-45c7-45fa-8a98-2acce36670dc",
   "metadata": {},
   "source": [
    "Fiona has the ability to read nearly any geospatial file format and can also write many of them. To determine which file formats are supported (as it may depend on the local installation and version), we can output a list of file format drivers by running the following command:"
   ]
  },
  {
   "cell_type": "code",
   "execution_count": null,
   "id": "9ccc635f-1ef9-45b4-805b-a52014e3b290",
   "metadata": {},
   "outputs": [],
   "source": [
    "import fiona\n",
    "fiona.supported_drivers"
   ]
  },
  {
   "cell_type": "markdown",
   "id": "1ced31bf-e6ef-4ce6-879b-ff4cb61d7525",
   "metadata": {},
   "source": [
    "In this list, <span style=\"color: red;\">r</span> marks file formats fiona can read, and <span style=\"color: red;\">w</span> formats it can write. An <span style=\"color: red;\">a</span> marks formats for which fiona can append new data to existing files.\n",
    "\n",
    "Note that each of the listed ‘formats’ is, in fact, the name of the driver implementation, and many of the drivers can open several related file formats.\n",
    "\n",
    "Many more ‘exotic’ file formats might not show up in this list of your local installation, because you would need to install additional libraries. You can find a full list of file formats supported by GDAL/OGR (and fiona) on its webpage: www.gdal.org/drivers/vector/."
   ]
  },
  {
   "cell_type": "markdown",
   "id": "7b88192f-9e67-4ea6-a6e9-45d13299bfaa",
   "metadata": {},
   "source": [
    "Reading and writing geospatial data\n",
    "Fiona allows very low-level access to geodata files. This is sometimes necessary, but in typical analysis workflows, it is more convenient to use a higher-level library. The most commonly used one for geospatial vector data is geopandas. As mentioned above, it uses fiona for reading and writing files, and thus supports the same file formats.\n",
    "\n",
    "For instance, to read data from a shapefile or GeoPackage  file into a <span style=\"color: red;\">geopandas.GeoDataFrame</span> (a geospatially-enabled version of a <span style=\"color: red;\">pandas.DataFrame</span>), use <span style=\"color: red;\">geopandas.read_file()</span>:"
   ]
  },
  {
   "cell_type": "code",
   "execution_count": null,
   "id": "090a81c1-6f0e-420e-ad8e-b5467ce970d4",
   "metadata": {},
   "outputs": [],
   "source": [
    "import geopandas\n",
    "data_set = geopandas.read_file(DATA_DIRECTORY / \"UGA_adm1_2011.shp\")\n",
    "data_set.plot()"
   ]
  },
  {
   "cell_type": "code",
   "execution_count": null,
   "id": "d5d704b0-0b83-48a9-9cc6-9ebdaaa9f803",
   "metadata": {},
   "outputs": [],
   "source": [
    "data_set.head(1)"
   ]
  },
  {
   "cell_type": "markdown",
   "id": "e82cbb21-bc6e-4da6-aa9c-97cc5132df5c",
   "metadata": {},
   "source": [
    "That seems pretty straightforward. Geopandas can even open files from online URL's, even in a zipped format!"
   ]
  },
  {
   "cell_type": "markdown",
   "id": "6149f9fc-d421-4d18-9903-fe2aa1ac925d",
   "metadata": {},
   "source": [
    "NUTS regions are a hierarchical system for dividing up the economic territory of the EU for the purpose of collecting, developing, and harmonizing European statistics. https://ec.europa.eu/eurostat/web/gisco/geodata/reference-data/administrative-units-statistical-units/nuts"
   ]
  },
  {
   "cell_type": "code",
   "execution_count": null,
   "id": "84342859-ceb5-4989-bdf5-761554a7b269",
   "metadata": {},
   "outputs": [],
   "source": [
    "\n",
    "# Download, unpack, and read the NUTS regions dataset from the Eurostat website\n",
    "url = \"https://gisco-services.ec.europa.eu/distribution/v2/nuts/shp/NUTS_RG_60M_2021_3035.shp.zip\"\n",
    "gdf = geopandas.read_file(url)\n",
    "gdf.head()"
   ]
  },
  {
   "cell_type": "markdown",
   "id": "348ad44e-8eed-46ae-b278-05fd38ef6360",
   "metadata": {},
   "source": [
    "Let's write the shapefile we downloaded from the European Comission's webpage into a geopackage format!"
   ]
  },
  {
   "cell_type": "code",
   "execution_count": null,
   "id": "5e6ea9d2-ba77-4d43-9120-ac1451eb578d",
   "metadata": {},
   "outputs": [],
   "source": [
    "# Write to GeoPackage\n",
    "gdf.to_file('nuts_1.gpkg', driver='GPKG')"
   ]
  },
  {
   "cell_type": "markdown",
   "id": "fb6ade86-70d4-413a-bef5-e98a8cdddc96",
   "metadata": {},
   "source": [
    "The error SchemaError: Wrong field type for FID typically occurs when you are trying to write a GeoDataFrame to a file format that doesn't support a field of type int64 for the feature ID (FID) column.\n",
    "\n",
    "The FID column is a unique identifier for each feature in a spatial dataset. In geopandas, this column is usually automatically generated when reading in a file and is of type int64 by default. In this case the shapefile we loaded already has a FID column but for a different purpose (another unique identifier). As such, it cannot create this column as it is of a different data type. To resolve this issue, we can rename the existing FID column using a pandas function (submodule of geopandas)."
   ]
  },
  {
   "cell_type": "code",
   "execution_count": null,
   "id": "6434c057-8883-473b-9b29-41536e397d57",
   "metadata": {},
   "outputs": [],
   "source": [
    "# Rename the 'old_name' column to 'new_name'\n",
    "gdf = gdf.rename(columns={'FID': 'FID1'})"
   ]
  },
  {
   "cell_type": "markdown",
   "id": "aa93326d-c1e2-4820-966f-3eb7c3d1307a",
   "metadata": {},
   "source": [
    "Now it should work! "
   ]
  },
  {
   "cell_type": "code",
   "execution_count": null,
   "id": "7073f9ad-1800-44aa-b3b1-4fbae2aaeb48",
   "metadata": {},
   "outputs": [],
   "source": [
    "# Write to GeoPackage\n",
    "gdf.to_file('nuts_1.gpkg', driver='GPKG')"
   ]
  },
  {
   "cell_type": "code",
   "execution_count": null,
   "id": "14b05262-1439-4d4a-b0c0-8a88b49a11b5",
   "metadata": {},
   "outputs": [],
   "source": [
    "# Write to GeoPackage\n",
    "output_path =DATA_DIRECTORY / \"nuts_1.gpkg\"\n",
    "\n",
    "gdf.to_file(output_path, driver='GPKG')"
   ]
  },
  {
   "cell_type": "markdown",
   "id": "6ab0a27e-da6d-4a6e-b58b-a2638e47eec4",
   "metadata": {},
   "source": [
    "We can try other types as well, for instance GeoJSON."
   ]
  },
  {
   "cell_type": "code",
   "execution_count": null,
   "id": "e54e2dbc-2cc7-42df-9086-25b6a30fbbc6",
   "metadata": {},
   "outputs": [],
   "source": [
    "# Write to GeoJSON\n",
    "output_path =DATA_DIRECTORY / \"nuts_1.gjson\"\n",
    "\n",
    "gdf.to_file(output_path, driver='GeoJSON')"
   ]
  },
  {
   "cell_type": "markdown",
   "id": "879bfb20-018d-4858-a40b-1684800bb96e",
   "metadata": {},
   "source": [
    "We can also read data from online API's using their WFS services! As an example, we retrive all bike pumps in Stockholm  from Stockholmäs municipality WFS service. "
   ]
  },
  {
   "cell_type": "code",
   "execution_count": null,
   "id": "eff5ecf7-ca83-4724-b625-f79b3a0e3e54",
   "metadata": {},
   "outputs": [],
   "source": [
    "\n",
    "url = 'https://openstreetgs.stockholm.se/geoservice/api/8a5977e3-3c63-446b-90c0-0c079d0bef55/wfs?request=GetFeature&typeName=od_gis:Cykelpump_Punkt'\n",
    "\n",
    "data = geopandas.read_file(url)\n",
    "data.head()"
   ]
  },
  {
   "cell_type": "code",
   "execution_count": null,
   "id": "d89d6ed1-7edb-4bfe-a252-fd2c77aa0308",
   "metadata": {},
   "outputs": [],
   "source": [
    "output_path =DATA_DIRECTORY / \"pumps.gpkg\"\n",
    "data.to_file(output_path, driver='GPKG')"
   ]
  },
  {
   "cell_type": "markdown",
   "id": "ba464476-cdc4-4f70-9c96-4a82d010d47c",
   "metadata": {},
   "source": [
    "## Sources\n",
    "\n",
    "This lesson is inspired by the [Programming in Python lessons](http://swcarpentry.github.io/python-novice-inflammation/) from the [Software Carpentry organization](http://software-carpentry.org) and has adapted or reused material from University of Helsinki Automating GIS processis course (https://autogis-site.readthedocs.io/en/latest/course-info/license.html) under a Creative Commons Attribution-ShareAlike 4.0 International licence (https://creativecommons.org/licenses/by-sa/4.0/deed.en)."
   ]
  },
  {
   "cell_type": "code",
   "execution_count": null,
   "id": "b2517b12-da39-4f87-b596-c2bd51f058fe",
   "metadata": {},
   "outputs": [],
   "source": []
  },
  {
   "cell_type": "code",
   "execution_count": null,
   "id": "33d5bb98-d9c6-4d3c-a68e-a95dce5bec38",
   "metadata": {},
   "outputs": [],
   "source": []
  },
  {
   "cell_type": "code",
   "execution_count": null,
   "id": "2634fe17-97ea-44aa-a7d6-7f732175b996",
   "metadata": {},
   "outputs": [],
   "source": []
  }
 ],
 "metadata": {
  "kernelspec": {
   "display_name": "Python 3 (ipykernel)",
   "language": "python",
   "name": "python3"
  },
  "language_info": {
   "codemirror_mode": {
    "name": "ipython",
    "version": 3
   },
   "file_extension": ".py",
   "mimetype": "text/x-python",
   "name": "python",
   "nbconvert_exporter": "python",
   "pygments_lexer": "ipython3",
   "version": "3.11.8"
  }
 },
 "nbformat": 4,
 "nbformat_minor": 5
}
