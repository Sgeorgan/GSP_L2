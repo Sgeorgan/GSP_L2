{
 "cells": [
  {
   "cell_type": "markdown",
   "id": "32dab36f-254d-4cea-b03e-a822cf8cc5ee",
   "metadata": {},
   "source": [
    "## Geopandas"
   ]
  },
  {
   "cell_type": "markdown",
   "id": "5b512fc4-3a58-4290-be3e-aaceb1f18e90",
   "metadata": {},
   "source": [
    "In this section, we will cover the basics of [Geopandas](https://geopandas.org/), a Python library to interact with geospatial vector data.\n",
    "\n",
    "Geopandas provides an easy-to-use interface to vector data sets. It combines the capabilities of pandas, the data analysis package we got to know in the Geo-Python course, with the geometry handling functionality of [shapely](https://shapely.readthedocs.io/en/stable/manual.html), the geo-spatial file format support of [fiona](https://fiona.readthedocs.io/en/latest/manual.html) and the [map projection libraries of pyproj](https://pyproj4.github.io/pyproj/stable/).\n",
    "\n",
    "The main data structures in geopandas are <span style=\"color: red;\">GeoDataFrames</span> and <span style=\"color: red;\">GeoSeries</span>. They extend the functionality of <span style=\"color: red;\">pandas.DataFrames</span> and <span style=\"color: red;\">pandas.Series</span>. This means that we can use all our pandas skills also when we work with geopandas!\n",
    "\n",
    "Let's start with a land use polygon of Värmland!"
   ]
  },
  {
   "cell_type": "code",
   "execution_count": null,
   "id": "e0169661-e08b-458c-b7a5-d53891f66167",
   "metadata": {},
   "outputs": [],
   "source": [
    " #location (directory) of the notebook\n",
    "import pathlib\n",
    "NOTEBOOK_PATH = pathlib.Path().resolve()\n",
    "DATA_DIRECTORY = NOTEBOOK_PATH / \"data\""
   ]
  },
  {
   "cell_type": "code",
   "execution_count": null,
   "id": "43038e85-ef08-43bd-a777-ebdaaa3a7a1f",
   "metadata": {},
   "outputs": [],
   "source": [
    "import geopandas\n",
    "data_set = geopandas.read_file(DATA_DIRECTORY / \"Landusepolygon.shp\")\n",
    "data_set.plot()"
   ]
  },
  {
   "cell_type": "code",
   "execution_count": null,
   "id": "15ce6d99-6895-4703-b230-47f749bdbd57",
   "metadata": {},
   "outputs": [],
   "source": [
    "data_set.head(5)"
   ]
  },
  {
   "cell_type": "markdown",
   "id": "fc330153-8103-4a37-b733-30ea0d09dba0",
   "metadata": {},
   "source": [
    "There is one key difference between pandas’s data frames and geopandas’ <span style=\"color: red;\">GeoDataFrames</span>: a GeoDataFrame contains an additional column for geometries. By default, the name of this column is geometry, and it is a <span style=\"color: red;\">GeoSeries</span> that contains the geometries (points, lines, polygons, …) as shapely.geometry objects."
   ]
  },
  {
   "cell_type": "markdown",
   "id": "cd7548d3-5bce-4e11-8d6a-252ff39abda7",
   "metadata": {},
   "source": [
    "First, check the data type of the read data set:"
   ]
  },
  {
   "cell_type": "code",
   "execution_count": null,
   "id": "e36015ae-6e27-4a90-ab2f-d2eeaaa6c440",
   "metadata": {},
   "outputs": [],
   "source": [
    "type(data_set)"
   ]
  },
  {
   "cell_type": "code",
   "execution_count": null,
   "id": "dad7b3f3-58d4-432b-9ec5-194031815559",
   "metadata": {},
   "outputs": [],
   "source": [
    "data_set.columns"
   ]
  },
  {
   "cell_type": "markdown",
   "id": "6cb52de7-be6f-4598-bb64-461671aa6855",
   "metadata": {},
   "source": [
    "Let's keep only some of these columns "
   ]
  },
  {
   "cell_type": "code",
   "execution_count": null,
   "id": "1e0fcd4b-7f02-4711-b79e-1d35676a7659",
   "metadata": {},
   "outputs": [],
   "source": [
    "data_set = data_set[['KKOD', 'KATEGORI', \"geometry\"]]"
   ]
  },
  {
   "cell_type": "code",
   "execution_count": null,
   "id": "ebb627d4-1967-460e-abc1-69e59d078e6a",
   "metadata": {},
   "outputs": [],
   "source": [
    "data_set"
   ]
  },
  {
   "cell_type": "markdown",
   "id": "7af37743-ed88-4780-aa2c-34f983c64781",
   "metadata": {},
   "source": [
    "Let's rename the columns to make them more readable with  <span style=\"color: red;\">dataframe.rename</span>"
   ]
  },
  {
   "cell_type": "code",
   "execution_count": null,
   "id": "fdd1e8b6-920a-41da-bbe3-5a8e86e3272a",
   "metadata": {},
   "outputs": [],
   "source": [
    "data_set = data_set.rename(\n",
    "    columns={\n",
    "        \"KKOD\": \"ID_CLASS\",\n",
    "        \"KATEGORI\": \"CLASS_NAME\"\n",
    "    }\n",
    ")"
   ]
  },
  {
   "cell_type": "code",
   "execution_count": null,
   "id": "ef6c413c-9439-4670-af3f-25a825e9538c",
   "metadata": {},
   "outputs": [],
   "source": [
    "data_set.head()"
   ]
  },
  {
   "cell_type": "markdown",
   "id": "cf02a1e7-34bf-4c7f-8f75-1ffaa391259e",
   "metadata": {},
   "source": [
    "### Explore the data set in a map:\n"
   ]
  },
  {
   "cell_type": "code",
   "execution_count": null,
   "id": "e92e5b47-0239-4ee4-bf12-a3898e12d1fb",
   "metadata": {},
   "outputs": [],
   "source": [
    "data_set.plot()"
   ]
  },
  {
   "cell_type": "markdown",
   "id": "0221b4c1-55c1-4788-a08e-b0c516caca00",
   "metadata": {},
   "source": [
    "Plotting a quick is easier than it seems! The default option of geopandas covers the whole extend of the spatial data file."
   ]
  },
  {
   "cell_type": "markdown",
   "id": "f3540998-32f0-4209-b160-9984c6edb927",
   "metadata": {},
   "source": [
    "Let's investigate some more of the data in this geodata frame. We can select the first 5 geometries of this column."
   ]
  },
  {
   "cell_type": "code",
   "execution_count": null,
   "id": "52a1e366-1365-4dc6-a230-938699bf8af1",
   "metadata": {},
   "outputs": [],
   "source": [
    "data_set.geometry.head()"
   ]
  },
  {
   "cell_type": "markdown",
   "id": "cc90602b-afff-45b4-80e9-277d77de31a9",
   "metadata": {},
   "source": [
    "We can see that they are polygons described with Well-Known Text (WKT) strings, in fact, <span style=\"color: red;\">shapely.geometry</span> objects! Let's try to plot the first polygon. To do so, the shapely library is used, as you are familiar from the first lecture."
   ]
  },
  {
   "cell_type": "code",
   "execution_count": null,
   "id": "a94127fc-1458-4d9a-a10f-80df278b96f3",
   "metadata": {},
   "outputs": [],
   "source": [
    "# The value of the column `geometry` in row 4:\n",
    "data_set.at[4, \"geometry\"]"
   ]
  },
  {
   "cell_type": "markdown",
   "id": "f7b65922-df6f-42ff-abe9-b0ffab11a02d",
   "metadata": {},
   "source": [
    "Let's print the area of this polygon."
   ]
  },
  {
   "cell_type": "code",
   "execution_count": null,
   "id": "175b6b15-8eeb-46cd-8922-32828bcd4be2",
   "metadata": {},
   "outputs": [],
   "source": [
    "# Print information about the area \n",
    "print(f\"Area: {round(data_set.at[4, 'geometry'].area)} m².\")"
   ]
  },
  {
   "cell_type": "markdown",
   "id": "22730733-c2dc-435f-b3fd-b68bef6c7cc9",
   "metadata": {},
   "source": [
    "Here, we know the coordinate reference system (CRS) of the input data set. The CRS also defines the unit of measurement (in our case, metres). That’s why we can print the computed area including an area measurement unit (square metres). Let’s do the same for multiple rows, and explore different options of how to. First, use the reliable and tried iterrows() pattern:"
   ]
  },
  {
   "cell_type": "code",
   "execution_count": null,
   "id": "7fc9c4f7-0fee-4ca1-8a02-87c05696e465",
   "metadata": {},
   "outputs": [],
   "source": [
    "# Iterate over the first 5 rows of the data set\n",
    "for index, row in data_set[:5].iterrows():\n",
    "    polygon_area = row[\"geometry\"].area\n",
    "    print(f\"The polygon in row {index} has a surface area of {polygon_area:0.1f} m².\")"
   ]
  },
  {
   "cell_type": "markdown",
   "id": "d5eea5b0-83cb-4dd0-9d81-e7cea2699602",
   "metadata": {},
   "source": [
    "As you see, all pandas functions, such as the <span style=\"color: red;\">iterrows()</span> method, are available in geopandas without the need to call pandas separately. Geopandas builds on top of pandas, and it inherits most of its functionality.\n",
    "\n",
    "Of course the <span style=\"color: red;\">iterrows()</span> pattern is not the most convenient and efficient way to calculate the area of many rows. Both <span style=\"color: red;\">GeoSeries</span> (geometry columns) and <span style=\"color: red;\">GeoDataFrames</span> have an <span style=\"color: red;\">area</span> property:\n"
   ]
  },
  {
   "cell_type": "markdown",
   "id": "bece711a-5d28-4c06-a4d5-47bd61f66754",
   "metadata": {},
   "source": [
    "There are other more efficient ways we can compute the area that are embedded into <span style=\"color: red;\">GeoDataFrames</span> and <span style=\"color: red;\">GeoSeries</span>"
   ]
  },
  {
   "cell_type": "code",
   "execution_count": null,
   "id": "04ef2640-3da8-4e6d-832e-f90e87844ff7",
   "metadata": {},
   "outputs": [],
   "source": [
    "# the `area` property of a `GeoDataFrame`\n",
    "data_set.area[0]"
   ]
  },
  {
   "cell_type": "code",
   "execution_count": null,
   "id": "3259aca4-5e74-4060-b932-9b98d2e2d5bb",
   "metadata": {},
   "outputs": [],
   "source": [
    "# Iterate over the first 5 rows of the data set\n",
    "for i, row in data_set[:5].iterrows():\n",
    "    polygon_area = data_set.area[i]\n",
    "    print(f\"The polygon in row {i} has a surface area of {polygon_area:0.1f} m².\")"
   ]
  },
  {
   "cell_type": "code",
   "execution_count": null,
   "id": "c6db5e04-973e-4bda-bd1b-5ec6ed00e1ab",
   "metadata": {},
   "outputs": [],
   "source": [
    "#create an area column\n",
    "data_set[\"area\"] = data_set.area\n",
    "data_set"
   ]
  },
  {
   "cell_type": "markdown",
   "id": "2bb7e13a-4417-4a6b-ac85-cf00bdb40809",
   "metadata": {},
   "source": [
    "Let's save a sub-set of this land use dataframe into another file.\n",
    "\n",
    "Let's save water bodies (code 901)"
   ]
  },
  {
   "cell_type": "code",
   "execution_count": null,
   "id": "b579d5e4-adcc-439f-8c80-26be9b4e684c",
   "metadata": {},
   "outputs": [],
   "source": [
    "water_bodies=data_set[data_set.ID_CLASS== 901]"
   ]
  },
  {
   "cell_type": "code",
   "execution_count": null,
   "id": "cdf7977a-0bb4-4ebe-a687-8a08543302a3",
   "metadata": {},
   "outputs": [],
   "source": [
    "water_bodies.plot()"
   ]
  },
  {
   "cell_type": "code",
   "execution_count": null,
   "id": "14e5f023-d6b7-43cf-b46d-b8102f2be657",
   "metadata": {},
   "outputs": [],
   "source": [
    "water_bodies.to_file(DATA_DIRECTORY  / \"water_bodies.shp\")"
   ]
  },
  {
   "cell_type": "markdown",
   "id": "edb8c2c1-c5fb-4031-9217-455e3f143446",
   "metadata": {},
   "source": [
    "The groupby() function in (geo)pandas' data frames is an incredibly useful method. It enables splitting of data into groups based on specific criteria, applying functions individually to each group, and combining the results into a common data structure."
   ]
  },
  {
   "cell_type": "markdown",
   "id": "faff065f-fa0a-4438-bbe7-42999d598a1f",
   "metadata": {},
   "source": [
    "Let's find out how many classes this dataset has."
   ]
  },
  {
   "cell_type": "code",
   "execution_count": null,
   "id": "dcd55c5b-af09-4380-a71c-cde825a1d85a",
   "metadata": {},
   "outputs": [],
   "source": [
    "data_set[\"CLASS_NAME\"].unique()"
   ]
  },
  {
   "cell_type": "markdown",
   "id": "2ef47d8d-6d1f-4e98-adc2-71989516a50b",
   "metadata": {},
   "source": [
    "Let's group them by their name."
   ]
  },
  {
   "cell_type": "code",
   "execution_count": null,
   "id": "be2cc54f-df74-4407-a1c0-bb68dc69c653",
   "metadata": {},
   "outputs": [],
   "source": [
    "grouped_data = data_set.groupby(\"CLASS_NAME\")\n",
    "grouped_data"
   ]
  },
  {
   "cell_type": "markdown",
   "id": "150fb98b-bb3f-417b-869c-de537038e8f7",
   "metadata": {},
   "source": [
    "So, grouped_data is a DataFrameGroupBy object. Inside a <span style=\"color: red;\">GroupBy</span> object, its property groups is a dictionary that works as a lookup table: it records which rows belong to which group. The keys of the dictionary are the unique values of the grouping column:"
   ]
  },
  {
   "cell_type": "code",
   "execution_count": null,
   "id": "95ea6a74-3224-46e6-8c38-5e4e26b95c29",
   "metadata": {},
   "outputs": [],
   "source": [
    "grouped_data.groups"
   ]
  },
  {
   "cell_type": "markdown",
   "id": "50b454e2-108c-413e-b0cd-240abb971c24",
   "metadata": {},
   "source": [
    "However, one can also simply iterate over the entire  <span style=\"color: red;\">GroupBy</span> object. Let’s count how many rows of data each group has:"
   ]
  },
  {
   "cell_type": "code",
   "execution_count": null,
   "id": "3105a218-205a-4b9c-849a-95e2a6b63ed1",
   "metadata": {},
   "outputs": [],
   "source": [
    "for key, group in grouped_data:\n",
    "    print(f\"Terrain class {key} has {len(group)} rows.\")"
   ]
  },
  {
   "cell_type": "code",
   "execution_count": null,
   "id": "e7917370-ab61-46f7-9306-d915a2072f67",
   "metadata": {},
   "outputs": [],
   "source": [
    "water_bodies = grouped_data.get_group('Vattenyta')\n",
    "type(water_bodies)\n",
    "water_bodies.plot()"
   ]
  },
  {
   "cell_type": "markdown",
   "id": "a40dd6ab-629b-4436-84e3-36121a2f3efd",
   "metadata": {},
   "source": [
    "The index in the new data frame stays the same as in the ungrouped input data set. This can be helpful, for instance, when you want to join the grouped data back to the original input data."
   ]
  },
  {
   "cell_type": "code",
   "execution_count": null,
   "id": "def5746e-fe59-4b89-aadb-b0d4f716f55b",
   "metadata": {},
   "outputs": [],
   "source": [
    "# Iterate over the input data, grouped by CLASS\n",
    "for key, group in data_set.groupby(\"CLASS_NAME\"):\n",
    "    # save the group to a new shapefile\n",
    "    group.to_file(DATA_DIRECTORY   / f\"LU_{key}.shp\")"
   ]
  },
  {
   "cell_type": "markdown",
   "id": "b5685e6c-5f28-4e68-abc3-f9df506a081c",
   "metadata": {},
   "source": [
    "### Extra: save summary statistics to CSV files"
   ]
  },
  {
   "cell_type": "markdown",
   "id": "1561f936-9f4e-4c49-8954-6cc3ae65b580",
   "metadata": {},
   "source": [
    "Whenever the results of an operation on a <span style=\"color: red;\">GeoDataFrame.DataFrame</span> do not include a geometry, the output data frame will automatically become a ‘plain’ <span style=\"color: red;\">pandas.DataFrame</span>, and can be saved to the standard table formats.\n",
    "\n",
    "One interesting application of this is to save basic descriptive statistics of a geospatial data set into a CSV table. For instance, we might want to know the area each terrain class covers.\n",
    "\n",
    "Again, we start by grouping the input data by terrain classes, and then compute the sum of each classes’ area. This can be condensed into one line of code:"
   ]
  },
  {
   "cell_type": "code",
   "execution_count": null,
   "id": "95ca037c-32d7-4ccb-a607-36e857d86143",
   "metadata": {},
   "outputs": [],
   "source": [
    "area_information = data_set.groupby(\"CLASS_NAME\").area.sum()\n",
    "area_information"
   ]
  },
  {
   "cell_type": "markdown",
   "id": "64559ada-a049-477a-8a9f-5da6072f7ef5",
   "metadata": {},
   "source": [
    "We can then save the resulting table into a CSV file using the standard pandas approach "
   ]
  },
  {
   "cell_type": "code",
   "execution_count": null,
   "id": "25a57fac-afee-49e7-9613-44511937b101",
   "metadata": {},
   "outputs": [],
   "source": [
    "area_information.to_csv( \"data/area_by_LU_class.csv\")\n"
   ]
  },
  {
   "cell_type": "markdown",
   "id": "399ad54b-cdc4-4e70-8a99-6e88f31618e3",
   "metadata": {},
   "source": [
    "## Sources\n",
    "\n",
    "This lesson is inspired by the [Programming in Python lessons](http://swcarpentry.github.io/python-novice-inflammation/) from the [Software Carpentry organization](http://software-carpentry.org) and has adapted or reused material from University of Helsinki Automating GIS processis course (https://autogis-site.readthedocs.io/en/latest/course-info/license.html) under a Creative Commons Attribution-ShareAlike 4.0 International licence (https://creativecommons.org/licenses/by-sa/4.0/deed.en)."
   ]
  },
  {
   "cell_type": "code",
   "execution_count": null,
   "id": "0961d2b3-3e1d-4023-91d8-fb2439cb4013",
   "metadata": {},
   "outputs": [],
   "source": []
  }
 ],
 "metadata": {
  "kernelspec": {
   "display_name": "GeoPython25",
   "language": "python",
   "name": "geopython"
  },
  "language_info": {
   "codemirror_mode": {
    "name": "ipython",
    "version": 3
   },
   "file_extension": ".py",
   "mimetype": "text/x-python",
   "name": "python",
   "nbconvert_exporter": "python",
   "pygments_lexer": "ipython3",
   "version": "3.10.13"
  }
 },
 "nbformat": 4,
 "nbformat_minor": 5
}
